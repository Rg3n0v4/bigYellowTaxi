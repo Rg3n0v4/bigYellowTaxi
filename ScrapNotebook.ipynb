{
 "cells": [
  {
   "cell_type": "code",
   "execution_count": 10,
   "id": "87dda122",
   "metadata": {},
   "outputs": [
    {
     "data": {
      "text/html": [
       "'/Users/waynekao/CS424/bigYellowTaxi/Data'"
      ],
      "text/latex": [
       "'/Users/waynekao/CS424/bigYellowTaxi/Data'"
      ],
      "text/markdown": [
       "'/Users/waynekao/CS424/bigYellowTaxi/Data'"
      ],
      "text/plain": [
       "[1] \"/Users/waynekao/CS424/bigYellowTaxi/Data\""
      ]
     },
     "metadata": {},
     "output_type": "display_data"
    }
   ],
   "source": [
    "getwd()"
   ]
  },
  {
   "cell_type": "code",
   "execution_count": null,
   "id": "8dbcf7e3",
   "metadata": {},
   "outputs": [
    {
     "data": {
      "text/html": [
       "<ol class=list-inline>\n",
       "\t<li>'./modified_taxi_partaa.csv'</li>\n",
       "\t<li>'./modified_taxi_partab.csv'</li>\n",
       "\t<li>'./modified_taxi_partac.csv'</li>\n",
       "\t<li>'./modified_taxi_partad.csv'</li>\n",
       "\t<li>'./modified_taxi_partae.csv'</li>\n",
       "\t<li>'./modified_taxi_partaf.csv'</li>\n",
       "\t<li>'./modified_taxi_partag.csv'</li>\n",
       "\t<li>'./modified_taxi_partah.csv'</li>\n",
       "\t<li>'./modified_taxi_partai.csv'</li>\n",
       "\t<li>'./modified_taxi_partaj.csv'</li>\n",
       "\t<li>'./modified_taxi_partak.csv'</li>\n",
       "\t<li>'./modified_taxi_partal.csv'</li>\n",
       "\t<li>'./modified_taxi_partam.csv'</li>\n",
       "\t<li>'./modified_taxi_partan.csv'</li>\n",
       "\t<li>'./modified_taxi_partao.csv'</li>\n",
       "\t<li>'./modified_taxi_partap.csv'</li>\n",
       "\t<li>'./modified_taxi_partaq.csv'</li>\n",
       "</ol>\n"
      ],
      "text/latex": [
       "\\begin{enumerate*}\n",
       "\\item './modified\\_taxi\\_partaa.csv'\n",
       "\\item './modified\\_taxi\\_partab.csv'\n",
       "\\item './modified\\_taxi\\_partac.csv'\n",
       "\\item './modified\\_taxi\\_partad.csv'\n",
       "\\item './modified\\_taxi\\_partae.csv'\n",
       "\\item './modified\\_taxi\\_partaf.csv'\n",
       "\\item './modified\\_taxi\\_partag.csv'\n",
       "\\item './modified\\_taxi\\_partah.csv'\n",
       "\\item './modified\\_taxi\\_partai.csv'\n",
       "\\item './modified\\_taxi\\_partaj.csv'\n",
       "\\item './modified\\_taxi\\_partak.csv'\n",
       "\\item './modified\\_taxi\\_partal.csv'\n",
       "\\item './modified\\_taxi\\_partam.csv'\n",
       "\\item './modified\\_taxi\\_partan.csv'\n",
       "\\item './modified\\_taxi\\_partao.csv'\n",
       "\\item './modified\\_taxi\\_partap.csv'\n",
       "\\item './modified\\_taxi\\_partaq.csv'\n",
       "\\end{enumerate*}\n"
      ],
      "text/markdown": [
       "1. './modified_taxi_partaa.csv'\n",
       "2. './modified_taxi_partab.csv'\n",
       "3. './modified_taxi_partac.csv'\n",
       "4. './modified_taxi_partad.csv'\n",
       "5. './modified_taxi_partae.csv'\n",
       "6. './modified_taxi_partaf.csv'\n",
       "7. './modified_taxi_partag.csv'\n",
       "8. './modified_taxi_partah.csv'\n",
       "9. './modified_taxi_partai.csv'\n",
       "10. './modified_taxi_partaj.csv'\n",
       "11. './modified_taxi_partak.csv'\n",
       "12. './modified_taxi_partal.csv'\n",
       "13. './modified_taxi_partam.csv'\n",
       "14. './modified_taxi_partan.csv'\n",
       "15. './modified_taxi_partao.csv'\n",
       "16. './modified_taxi_partap.csv'\n",
       "17. './modified_taxi_partaq.csv'\n",
       "\n",
       "\n"
      ],
      "text/plain": [
       " [1] \"./modified_taxi_partaa.csv\" \"./modified_taxi_partab.csv\"\n",
       " [3] \"./modified_taxi_partac.csv\" \"./modified_taxi_partad.csv\"\n",
       " [5] \"./modified_taxi_partae.csv\" \"./modified_taxi_partaf.csv\"\n",
       " [7] \"./modified_taxi_partag.csv\" \"./modified_taxi_partah.csv\"\n",
       " [9] \"./modified_taxi_partai.csv\" \"./modified_taxi_partaj.csv\"\n",
       "[11] \"./modified_taxi_partak.csv\" \"./modified_taxi_partal.csv\"\n",
       "[13] \"./modified_taxi_partam.csv\" \"./modified_taxi_partan.csv\"\n",
       "[15] \"./modified_taxi_partao.csv\" \"./modified_taxi_partap.csv\"\n",
       "[17] \"./modified_taxi_partaq.csv\""
      ]
     },
     "metadata": {},
     "output_type": "display_data"
    }
   ],
   "source": [
    "#READ CSV FILE AND CONVERT TO ONE DATA FRAME\n",
    "col_name <- c(\"\",\"Trip.Start.Timestamp\",\"Trip.Seconds\",\"Trip.Miles\",\"Pickup.Community.Area\",\"Dropoff.Community.Area\",\"Company\")\n",
    "setwd(\"/Users/waynekao/CS424/bigYellowTaxi/Data/\")\n",
    "myfiles <- list.files(pattern=\"*.csv\", full.names=TRUE)\n",
    "myfiles\n",
    "data <- do.call(rbind, lapply(myfiles, read.csv, header = FALSE))\n",
    "colnames(data) <- col_name\n",
    "\n"
   ]
  }
 ],
 "metadata": {
  "kernelspec": {
   "display_name": "R",
   "language": "R",
   "name": "ir"
  },
  "language_info": {
   "codemirror_mode": "r",
   "file_extension": ".r",
   "mimetype": "text/x-r-source",
   "name": "R",
   "pygments_lexer": "r",
   "version": "3.5.1"
  }
 },
 "nbformat": 4,
 "nbformat_minor": 5
}
