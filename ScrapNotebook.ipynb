{
 "cells": [
  {
   "cell_type": "code",
   "execution_count": null,
   "id": "05fb66ed",
   "metadata": {},
   "outputs": [],
   "source": [
    "getwd()"
   ]
  },
  {
   "cell_type": "code",
   "execution_count": null,
   "id": "729cb5a8",
   "metadata": {},
   "outputs": [],
   "source": [
    "#READ CSV FILE AND CONVERT TO ONE DATA FRAME\n",
    "col_name <- c(\"\",\"Trip.Start.Timestamp\",\"Trip.Seconds\",\"Trip.Miles\",\"Pickup.Community.Area\",\"Dropoff.Community.Area\",\"Company\")\n",
    "setwd(\"/Users/rpgen/Documents/CS424/project3/bigYellowTaxi/Data\")\n",
    "myfiles <- list.files(pattern=\"*.csv\", full.names=TRUE)\n",
    "myfiles\n",
    "data <- do.call(rbind, lapply(myfiles, read.csv, header = FALSE))\n",
    "colnames(data) <- col_name\n",
    "\n"
   ]
  },
  {
   "cell_type": "code",
   "execution_count": null,
   "id": "895d04d1",
   "metadata": {
    "scrolled": true
   },
   "outputs": [],
   "source": [
    "data"
   ]
  },
  {
   "cell_type": "code",
   "execution_count": null,
   "id": "f72ae4bf",
   "metadata": {
    "scrolled": true
   },
   "outputs": [],
   "source": [
    "library(lubridate)\n",
    "\n",
    "n_date <- parse_date_time(data$Trip.Start.Timestamp,\n",
    "                orders = 'mdY IMS %p', truncated = 3) #PARSE DATE FROM TIME STAMP\n",
    "data$new_date <- n_date\n",
    "data$Hour <- hour(data$new_date)\n",
    "data"
   ]
  },
  {
   "cell_type": "code",
   "execution_count": null,
   "id": "5bfdfc78",
   "metadata": {},
   "outputs": [],
   "source": [
    "community_list <- c(\"Rogers Park\", \"West Ridge\", \"Uptown\", \n",
    "          \"Lincoln Square\", \"North Center\", \"Lake View\",\n",
    "         \"Lincoln Park\", \"Near North Side\", \"Edison Park\",\n",
    "         \"Norwood Park\", \"Jefferson Park\", \"Forest Glen\",\n",
    "         \"North Park\", \"Albany Park\", \"Portage Park\",\n",
    "         \"Irving Park\", \"Dunning\", \"Montclare\", \"Belmont Cragin\",\n",
    "         \"Hermosa\", \"Avondale\", \"Logan Square\", \"Humboldt Park\",\n",
    "         \"West Town\", \"Austin\", \"West Garfield Park\",\n",
    "         \"East Garfield Park\", \"Near West Side\", \"North Lawndale\",\n",
    "         \"South Lawndale\", \"Lower West Side\", \"Loop\", \"Near South Side\",\n",
    "         \"Armour Square\", \"Douglas\", \"Oakland\", \"Fuller Park\", \n",
    "         \"Grand Boulevard\", \"Kenwood\", \"Washington Park\", \"Hyde Park\",\n",
    "         \"Woodlawn\", \"South Shore\", \"Chatham\", \"Avalon Park\", \"South Chicago\",\n",
    "         \"Burnside\", \"Calumet Heights\", \"Roseland\", \"Pullman\", \"South Deering\",\n",
    "         \"East Side\", \"West Pullman\", \"Riverdale\", \"Hegewisch\", \"Garfield Ridge\",\n",
    "         \"Archer Heights\", \"Brighton Park\", \"Mckinley Park\", \"Bridgeport\",\n",
    "         \"New City\", \"West Elsdon\", \"Gage Park\", \"Clearing\", \"West Lawn\",\n",
    "         \"Chicago Lawn\", \"West Englewood\", \"Englewood\", \"Greater Grand Crossing\",\n",
    "         \"Ashburn\", \"Auburn Gresham\", \"Beverly\", \"Washington Heights\",\n",
    "         \"Mount Greenwood\", \"Morgan Park\", \"Ohare\", \"Edgewater\") # R IS INDEX STARTING 1 NOT 0\n",
    "\n",
    "company_list <- c(\"1085 - 72312 N and W Cab Co\", \"1469 - 64126 Omar Jada\",\"2092 - 61288 Sbeih company\", \"24 Seven Taxi\",\n",
    "                  \"2733 - 74600 Benny Jona\", \"3011 - 66308 JBL Cab Inc.\", \"3094 - 24059 G.L.B. Cab Co\", \n",
    "                  \"312 Medallion Management Corp\", \"3556 - 36214 RC Andrews Cab\", \"3591 - 63480 Chuks Cab\", \n",
    "                  \"3620 - 52292 David K. Cab Corp.\", \"3623 - 72222 Arrington Enterprises\", \n",
    "                  \"3721 - Santamaria Express, Alvaro Santamaria\", \"4053 - 40193 Adwar H. Nikola\", \n",
    "                  \"4623 - 27290 Jay Kim\", \"5 Star Taxi\", \"5006 - 39261 Salifu Bawa\", \"5062 - 34841 Sam Mestas\",\n",
    "                  \"5074 - 54002 Ahzmi Inc\", \"5874 - 73628 Sergey Cab Corp.\", \"6574 - Babylon Express Inc.\",\n",
    "                  \"6742 - 83735 Tasha ride inc\", \"6743 - 78771 Luhak Corp\", \"American United\", \n",
    "                  \"American United Taxi Affiliation\", \"Blue Diamond\", \"Blue Ribbon Taxi Association Inc.\",\n",
    "                  \"Checker Taxi\", \"Checker Taxi Affiliation\", \"Chicago Carriage Cab Corp\", \n",
    "                  \"Chicago Independents\", \"Chicago Medallion Management\", \"Chicago Star Taxicab\", \n",
    "                  \"Chicago Taxicab\", \"Choice Taxi Association\", \"City Service\", \"Flash Cab\", \"Globe Taxi\", \n",
    "                  \"Gold Coast Taxi\", \"KOAM Taxi Association\", \"Leonard Cab Co\", \"Medallion Leasin\", \n",
    "                  \"Metro Jet Taxi A\", \"Nova Taxi Affiliation Llc\", \"Patriot Taxi Dba Peace Taxi Associat\", \n",
    "                  \"Setare Inc\", \"Star North Management LLC\", \"Sun Taxi\", \"Taxi Affiliation Service Yellow\", \n",
    "                  \"Taxi Affiliation Services\", \"Taxicab Insurance Agency, LLC\", \"Top Cab Affiliation\", \"Yellow Cab\",\n",
    "                  \"Petani Cab Corp\", \"U Taxicab\")\n",
    "\n",
    "#All (City of Chicago)\n",
    "community <- \"All (City of Chicago)\"\n",
    "trip <- \"To\"\n",
    "#All Taxis\n",
    "#Metro Jet Taxi A\n",
    "company <- \"All Taxis\"\n",
    "units <- \"MI\""
   ]
  },
  {
   "cell_type": "code",
   "execution_count": null,
   "id": "13b71c59",
   "metadata": {},
   "outputs": [],
   "source": [
    "print(community_list[59]) #GRABBING COMMUNITY BY REGION ID\n",
    "match(\"Dunning\", community_list) #GETTING REGION ID BY COMMUNITY NAME\n"
   ]
  },
  {
   "cell_type": "code",
   "execution_count": null,
   "id": "fd9a0ada",
   "metadata": {},
   "outputs": [],
   "source": [
    "upper_com <- NULL\n",
    "for(i in community_list){\n",
    "    upper_com <- append(upper_com, toupper(i))\n",
    "}\n",
    "\n",
    "df<-data.frame(upper_com)\n",
    "df$pop <- 25\n",
    "for(i in 1:length(df[,1])){\n",
    "    print(i)\n",
    "    df[i,2] <- df[i,2] + i\n",
    "}\n",
    "\n",
    "df"
   ]
  },
  {
   "cell_type": "code",
   "execution_count": null,
   "id": "b1216d92",
   "metadata": {},
   "outputs": [],
   "source": [
    "sort(unique(data$Company))"
   ]
  },
  {
   "cell_type": "code",
   "execution_count": null,
   "id": "ee0eb62f",
   "metadata": {},
   "outputs": [],
   "source": [
    "updateData <- data.frame(data)\n",
    "\n",
    "if(community != \"All (City of Chicago)\"){\n",
    "    if(trip == \"To\"){\n",
    "        updateData <- subset(updateData, updateData$Dropoff.Community.Area == match(community, community_list))\n",
    "    }\n",
    "    else{ #FROM\n",
    "        updateData <- subset(updateData, updateData$Pickup.Community.Area == match(community, community_list))\n",
    "    }\n",
    "}\n",
    "if(company != \"All Taxis\"){\n",
    "    updateData <- subset(updateData, updateData$Company == company)\n",
    "}\n"
   ]
  },
  {
   "cell_type": "code",
   "execution_count": null,
   "id": "4b6dce5d",
   "metadata": {},
   "outputs": [],
   "source": [
    "updateData"
   ]
  },
  {
   "cell_type": "code",
   "execution_count": null,
   "id": "1be1d07e",
   "metadata": {
    "scrolled": true
   },
   "outputs": [],
   "source": [
    "#Aggregate by day\n",
    "noFilter_byDay <- aggregate(updateData[,1], by=list(date(updateData$new_date)), FUN=length)\n",
    "colnames(noFilter_byDay) <- c(\"Date\", \"Rides\")\n",
    "noFilter_byDay"
   ]
  },
  {
   "cell_type": "code",
   "execution_count": null,
   "id": "bef08f9a",
   "metadata": {
    "scrolled": true
   },
   "outputs": [],
   "source": [
    "#Aggregate by hour\n",
    "noFilter_byHour <- aggregate(updateData[,1], by=list(updateData$Hour), FUN=length)\n",
    "colnames(noFilter_byHour) <- c(\"Hour\", \"Rides\")\n",
    "noFilter_byHour"
   ]
  },
  {
   "cell_type": "code",
   "execution_count": null,
   "id": "58f044a4",
   "metadata": {},
   "outputs": [],
   "source": [
    "#Aggregate by weekday\n",
    "noFilter_byDayOfWeek <- aggregate(updateData[,1], by=list(wday(updateData$new_date, week_start=1)), FUN=length)\n",
    "colnames(noFilter_byDayOfWeek) <- c(\"Day Of Week\", \"Rides\")\n",
    "#** STARTS MONDAY TO SUNDAY WITH 1 BEING MONDAY **\n",
    "noFilter_byDayOfWeek"
   ]
  },
  {
   "cell_type": "code",
   "execution_count": null,
   "id": "861e7715",
   "metadata": {},
   "outputs": [],
   "source": [
    "#Aggregate by binned mileage \n",
    "\n",
    "#Add to global\n",
    "mile_bin <- c(\"0.5 to < 10\", \"10 to < 20\", \"20 to < 30\", \"30 to < 40\", \"40 to < 50\", \"50 to < 60\", \"60 to < 70\", \"70 to < 80\", \"80 to < 90\", \"90 to 100\")\n",
    "\n",
    "#Actual code to get data frame\n",
    "bin_data = data.frame(updateData)\n",
    "bin_data$Mile_Bin <- NA\n",
    "bin_data$Mile_Bin[bin_data$Trip.Miles >= 0.5 & bin_data$Trip.Miles < 10] <- mile_bin[1]\n",
    "bin_data$Mile_Bin[bin_data$Trip.Miles >= 10 & bin_data$Trip.Miles < 20] <- mile_bin[2]\n",
    "bin_data$Mile_Bin[bin_data$Trip.Miles >= 20 & bin_data$Trip.Miles < 30] <- mile_bin[3]\n",
    "bin_data$Mile_Bin[bin_data$Trip.Miles >= 30 & bin_data$Trip.Miles < 40] <- mile_bin[4]\n",
    "bin_data$Mile_Bin[bin_data$Trip.Miles >= 40 & bin_data$Trip.Miles < 50] <- mile_bin[5]\n",
    "bin_data$Mile_Bin[bin_data$Trip.Miles >= 50 & bin_data$Trip.Miles < 60] <- mile_bin[6]\n",
    "bin_data$Mile_Bin[bin_data$Trip.Miles >= 60 & bin_data$Trip.Miles < 70] <- mile_bin[7]\n",
    "bin_data$Mile_Bin[bin_data$Trip.Miles >= 70 & bin_data$Trip.Miles < 80] <- mile_bin[8]\n",
    "bin_data$Mile_Bin[bin_data$Trip.Miles >= 80 & bin_data$Trip.Miles < 90] <- mile_bin[9]\n",
    "bin_data$Mile_Bin[bin_data$Trip.Miles >= 90 & bin_data$Trip.Miles <= 100] <- mile_bin[10]\n",
    "bin_data$Mile_Bin <- as.factor(bin_data$Mile_Bin)\n",
    "\n",
    "noFilter_byBinnedMileage <- aggregate(bin_data[,1], by=list(bin_data$Mile_Bin), FUN=length)\n",
    "colnames(noFilter_byBinnedMileage) <- c(\"Miles\", \"Rides\")\n",
    "noFilter_byBinnedMileage"
   ]
  },
  {
   "cell_type": "code",
   "execution_count": null,
   "id": "5bd70c45",
   "metadata": {
    "scrolled": true
   },
   "outputs": [],
   "source": [
    "#Aggregate by Trip Time\n",
    "print(min(updateData$Trip.Seconds))\n",
    "max(updateData$Trip.Seconds)\n",
    "\n",
    "# #Add to global\n",
    "time_bin <- c(\"1 minute to < 5 minutes\", \"5 minute to < 10 minutes\", \"10 minute to < 30 minutes\", \"30 minute to < 1 hr\", \"1 hr to < 2 hr\", \"2 hr to < 3 hr\", \"3 hr to < 4 hr\", \"4 hr to 5 hr\")\n",
    "\n",
    "# #Actual code to get data frame\n",
    "bin_data = data.frame(updateData)\n",
    "bin_data$Time_Bin <- NA\n",
    "bin_data$Time_Bin[bin_data$Trip.Seconds >= 60 & bin_data$Trip.Seconds < 300] <- time_bin[1]\n",
    "bin_data$Time_Bin[bin_data$Trip.Seconds >= 300 & bin_data$Trip.Seconds < 600] <- time_bin[2]\n",
    "bin_data$Time_Bin[bin_data$Trip.Seconds >= 600 & bin_data$Trip.Seconds < 1800] <- time_bin[3]\n",
    "bin_data$Time_Bin[bin_data$Trip.Seconds >= 1800 & bin_data$Trip.Seconds < 3600] <- time_bin[4]\n",
    "bin_data$Time_Bin[bin_data$Trip.Seconds >= 3600 & bin_data$Trip.Seconds < 7200] <- time_bin[5]\n",
    "bin_data$Time_Bin[bin_data$Trip.Seconds >= 7200 & bin_data$Trip.Seconds < 10800] <- time_bin[6]\n",
    "bin_data$Time_Bin[bin_data$Trip.Seconds >= 10800 & bin_data$Trip.Seconds < 14400] <- time_bin[7]\n",
    "bin_data$Time_Bin[bin_data$Trip.Seconds >= 14400 & bin_data$Trip.Seconds < 18000] <- time_bin[8]\n",
    "bin_data$Time_Bin <- factor(bin_data$Time_Bin, levels = time_bin, ordered = TRUE) \n",
    "noFilter_byBinnedTime <- aggregate(bin_data[,1], by=list(bin_data$Time_Bin), FUN=length)\n",
    "colnames(noFilter_byBinnedTime) <- c(\"Time\", \"Rides\")\n",
    "noFilter_byBinnedTime\n",
    "\n"
   ]
  },
  {
   "cell_type": "code",
   "execution_count": null,
   "id": "b2dc5edb",
   "metadata": {},
   "outputs": [],
   "source": [
    "summary(noFilter_byBinnedTime)"
   ]
  },
  {
   "cell_type": "code",
   "execution_count": null,
   "id": "5a39e049",
   "metadata": {},
   "outputs": [],
   "source": [
    "# Dataframe for the percentage of rides going to/from each community\n",
    "# NEEDS TO ACCOUNT THE TO/FROM FILTER // done\n",
    "# INTEGRATE WITH TAXI // done\n",
    "# KEEP IN MIND TO KEEP THE ORDER OF COMMUNITY ARRAY // done\n",
    "eachCommunity <- data.frame(data)\n",
    "comm_range <- 1:77\n",
    "\n",
    "if(company != \"All Taxis\"){\n",
    "    eachCommunity <- subset(eachCommunity, eachCommunity$Company == company)\n",
    "}\n",
    "\n",
    "if(trip == \"To\"){\n",
    "    eachCommunity <- aggregate(eachCommunity[,1], by=list(eachCommunity$Dropoff.Community.Area), FUN=length)\n",
    "}else{\n",
    "    eachCommunity <- aggregate(eachCommunity[,1], by=list(eachCommunity$Pickup.Community.Area), FUN=length)\n",
    "}\n",
    "\n",
    "colnames(eachCommunity) <- c(\"Community\", \"Percentage\")\n",
    "#Fill in missing communities with 0's\n",
    "for(i in 1:77){\n",
    "    hasCommunity <- FALSE\n",
    "    for(j in 1:length(eachCommunity[,1])){\n",
    "        if(eachCommunity[j,1] == i){\n",
    "            hasCommunity <- TRUE\n",
    "            break\n",
    "        }\n",
    "    }\n",
    "        \n",
    "    if(!hasCommunity){\n",
    "        eachCommunity[nrow(eachCommunity) + 1,] = c(i, 0)\n",
    "    }\n",
    "}\n",
    "\n",
    "eachCommunity <- eachCommunity[order(eachCommunity$Community),]\n",
    "rownames(eachCommunity) <- 1:nrow(eachCommunity)\n",
    "\n",
    "#CONVERT COMMUNITY ID TO NAMES\n",
    "for(i in 1:77){\n",
    "    eachCommunity[i,1] <- community_list[i]\n",
    "}\n",
    "\n",
    "#Table them as percentages\n",
    "count_sum <- sum(eachCommunity$Percentage)\n",
    "eachCommunity$Percentage <- eachCommunity$Percentage/count_sum\n",
    "eachCommunity\n",
    "#NOTE BAR CHART NEEDS TO SHOW COMMUNITIES ALPHABETICALLY\n"
   ]
  }
 ],
 "metadata": {
  "kernelspec": {
   "display_name": "R",
   "language": "R",
   "name": "ir"
  },
  "language_info": {
   "codemirror_mode": "r",
   "file_extension": ".r",
   "mimetype": "text/x-r-source",
   "name": "R",
   "pygments_lexer": "r",
   "version": "4.1.2"
  }
 },
 "nbformat": 4,
 "nbformat_minor": 5
}
