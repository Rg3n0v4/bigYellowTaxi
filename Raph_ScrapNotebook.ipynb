{
 "cells": [
  {
   "cell_type": "code",
   "execution_count": 1,
   "id": "05fb66ed",
   "metadata": {},
   "outputs": [
    {
     "data": {
      "text/html": [
       "'C:/Users/rpgen/Documents/CS424/project3/bigYellowTaxi'"
      ],
      "text/latex": [
       "'C:/Users/rpgen/Documents/CS424/project3/bigYellowTaxi'"
      ],
      "text/markdown": [
       "'C:/Users/rpgen/Documents/CS424/project3/bigYellowTaxi'"
      ],
      "text/plain": [
       "[1] \"C:/Users/rpgen/Documents/CS424/project3/bigYellowTaxi\""
      ]
     },
     "metadata": {},
     "output_type": "display_data"
    }
   ],
   "source": [
    "getwd()"
   ]
  },
  {
   "cell_type": "code",
   "execution_count": null,
   "id": "729cb5a8",
   "metadata": {},
   "outputs": [
    {
     "data": {
      "text/html": [
       "<style>\n",
       ".list-inline {list-style: none; margin:0; padding: 0}\n",
       ".list-inline>li {display: inline-block}\n",
       ".list-inline>li:not(:last-child)::after {content: \"\\00b7\"; padding: 0 .5ex}\n",
       "</style>\n",
       "<ol class=list-inline><li>'./by_hour.csv'</li><li>'./modified_taxi_partaa.csv'</li><li>'./modified_taxi_partab.csv'</li><li>'./modified_taxi_partac.csv'</li><li>'./modified_taxi_partad.csv'</li><li>'./modified_taxi_partae.csv'</li><li>'./modified_taxi_partaf.csv'</li><li>'./modified_taxi_partag.csv'</li><li>'./modified_taxi_partah.csv'</li><li>'./modified_taxi_partai.csv'</li><li>'./modified_taxi_partaj.csv'</li><li>'./modified_taxi_partak.csv'</li><li>'./modified_taxi_partal.csv'</li><li>'./modified_taxi_partam.csv'</li><li>'./modified_taxi_partan.csv'</li><li>'./modified_taxi_partao.csv'</li><li>'./modified_taxi_partap.csv'</li><li>'./modified_taxi_partaq.csv'</li></ol>\n"
      ],
      "text/latex": [
       "\\begin{enumerate*}\n",
       "\\item './by\\_hour.csv'\n",
       "\\item './modified\\_taxi\\_partaa.csv'\n",
       "\\item './modified\\_taxi\\_partab.csv'\n",
       "\\item './modified\\_taxi\\_partac.csv'\n",
       "\\item './modified\\_taxi\\_partad.csv'\n",
       "\\item './modified\\_taxi\\_partae.csv'\n",
       "\\item './modified\\_taxi\\_partaf.csv'\n",
       "\\item './modified\\_taxi\\_partag.csv'\n",
       "\\item './modified\\_taxi\\_partah.csv'\n",
       "\\item './modified\\_taxi\\_partai.csv'\n",
       "\\item './modified\\_taxi\\_partaj.csv'\n",
       "\\item './modified\\_taxi\\_partak.csv'\n",
       "\\item './modified\\_taxi\\_partal.csv'\n",
       "\\item './modified\\_taxi\\_partam.csv'\n",
       "\\item './modified\\_taxi\\_partan.csv'\n",
       "\\item './modified\\_taxi\\_partao.csv'\n",
       "\\item './modified\\_taxi\\_partap.csv'\n",
       "\\item './modified\\_taxi\\_partaq.csv'\n",
       "\\end{enumerate*}\n"
      ],
      "text/markdown": [
       "1. './by_hour.csv'\n",
       "2. './modified_taxi_partaa.csv'\n",
       "3. './modified_taxi_partab.csv'\n",
       "4. './modified_taxi_partac.csv'\n",
       "5. './modified_taxi_partad.csv'\n",
       "6. './modified_taxi_partae.csv'\n",
       "7. './modified_taxi_partaf.csv'\n",
       "8. './modified_taxi_partag.csv'\n",
       "9. './modified_taxi_partah.csv'\n",
       "10. './modified_taxi_partai.csv'\n",
       "11. './modified_taxi_partaj.csv'\n",
       "12. './modified_taxi_partak.csv'\n",
       "13. './modified_taxi_partal.csv'\n",
       "14. './modified_taxi_partam.csv'\n",
       "15. './modified_taxi_partan.csv'\n",
       "16. './modified_taxi_partao.csv'\n",
       "17. './modified_taxi_partap.csv'\n",
       "18. './modified_taxi_partaq.csv'\n",
       "\n",
       "\n"
      ],
      "text/plain": [
       " [1] \"./by_hour.csv\"              \"./modified_taxi_partaa.csv\"\n",
       " [3] \"./modified_taxi_partab.csv\" \"./modified_taxi_partac.csv\"\n",
       " [5] \"./modified_taxi_partad.csv\" \"./modified_taxi_partae.csv\"\n",
       " [7] \"./modified_taxi_partaf.csv\" \"./modified_taxi_partag.csv\"\n",
       " [9] \"./modified_taxi_partah.csv\" \"./modified_taxi_partai.csv\"\n",
       "[11] \"./modified_taxi_partaj.csv\" \"./modified_taxi_partak.csv\"\n",
       "[13] \"./modified_taxi_partal.csv\" \"./modified_taxi_partam.csv\"\n",
       "[15] \"./modified_taxi_partan.csv\" \"./modified_taxi_partao.csv\"\n",
       "[17] \"./modified_taxi_partap.csv\" \"./modified_taxi_partaq.csv\""
      ]
     },
     "metadata": {},
     "output_type": "display_data"
    }
   ],
   "source": [
    "#READ CSV FILE AND CONVERT TO ONE DATA FRAME\n",
    "col_name <- c(\"\",\"Trip.Start.Timestamp\",\"Trip.Seconds\",\"Trip.Miles\",\"Pickup.Community.Area\",\"Dropoff.Community.Area\",\"Company\")\n",
    "setwd(\"/Users/rpgen/Documents/CS424/project3/bigYellowTaxi/Data\")\n",
    "myfiles <- list.files(pattern=\"*.csv\", full.names=TRUE)\n",
    "myfiles\n",
    "data <- do.call(rbind, lapply(myfiles, read.csv, header = FALSE))\n",
    "colnames(data) <- col_name\n",
    "\n"
   ]
  },
  {
   "cell_type": "code",
   "execution_count": null,
   "id": "895d04d1",
   "metadata": {
    "scrolled": true
   },
   "outputs": [],
   "source": [
    "data"
   ]
  },
  {
   "cell_type": "code",
   "execution_count": null,
   "id": "f72ae4bf",
   "metadata": {},
   "outputs": [],
   "source": [
    "library(lubridate)\n",
    "\n",
    "n_date <- parse_date_time(data$Trip.Start.Timestamp,\n",
    "                orders = 'mdY IMS %p', truncated = 3) #PARSE DATE FROM TIME STAMP\n",
    "data$new_date <- n_date\n",
    "data$Hour <- hour(data$new_date)\n",
    "data"
   ]
  },
  {
   "cell_type": "code",
   "execution_count": null,
   "id": "1be1d07e",
   "metadata": {
    "scrolled": true
   },
   "outputs": [],
   "source": [
    "#Aggregate by day\n",
    "noFilter_byDay <- aggregate(data[,1], by=list(date(data$new_date)), FUN=length)\n",
    "colnames(noFilter_byDay) <- c(\"Date\", \"Rides\")\n",
    "noFilter_byDay"
   ]
  },
  {
   "cell_type": "code",
   "execution_count": null,
   "id": "bef08f9a",
   "metadata": {
    "scrolled": true
   },
   "outputs": [],
   "source": [
    "#Aggregate by hour\n",
    "noFilter_byHour <- aggregate(data[,1], by=list(data$Hour), FUN=length)\n",
    "colnames(noFilter_byHour) <- c(\"Hour\", \"Rides\")\n",
    "noFilter_byHour"
   ]
  },
  {
   "cell_type": "code",
   "execution_count": null,
   "id": "58f044a4",
   "metadata": {
    "scrolled": true
   },
   "outputs": [],
   "source": [
    "#Aggregate by weekday\n",
    "noFilter_byDayOfWeek <- aggregate(data[,1], by=list(wday(data$new_date, week_start=1)), FUN=length)\n",
    "colnames(noFilter_byDayOfWeek) <- c(\"Day Of Week\", \"Rides\")\n",
    "#** STARTS MONDAY TO SUNDAY WITH 1 BEING MONDAY **\n",
    "noFilter_byDayOfWeek"
   ]
  },
  {
   "cell_type": "code",
   "execution_count": null,
   "id": "861e7715",
   "metadata": {},
   "outputs": [],
   "source": [
    "#Aggregate by binned mileage\n",
    "print(min(data$Trip.Miles))\n",
    "max(data$Trip.Miles)\n"
   ]
  },
  {
   "cell_type": "code",
   "execution_count": null,
   "id": "37f587c7",
   "metadata": {},
   "outputs": [],
   "source": [
    "sort(unique(data$Pickup.Community.Area))"
   ]
  },
  {
   "cell_type": "code",
   "execution_count": null,
   "id": "3925b7ee",
   "metadata": {},
   "outputs": [],
   "source": [
    "community_list <- c(\"Rogers Park\", \"West Ridge\", \"Uptown\", \n",
    "          \"Lincoln Square\", \"North Center\", \"Lake View\",\n",
    "         \"Lincoln Park\", \"Near North Side\", \"Edison Park\",\n",
    "         \"Norwood Park\", \"Jefferson Park\", \"Forest Glen\",\n",
    "         \"North Park\", \"Albany Park\", \"Portage Park\",\n",
    "         \"Irving Park\", \"Dunning\", \"Montclare\", \"Belmont Cragin\",\n",
    "         \"Hermosa\", \"Avondale\", \"Logan Square\", \"Humboldt Park\",\n",
    "         \"West Town\", \"Austin\", \"West Garfield Park\",\n",
    "         \"East Garfield Park\", \"Near West Side\", \"North Lawndale\",\n",
    "         \"South Lawndale\", \"Lower West Side\", \"Loop\", \"Near South Side\",\n",
    "         \"Armour Square\", \"Douglas\", \"Oakland\", \"Fuller Park\", \n",
    "         \"Grand Boulevard\", \"Kenwood\", \"Washington Park\", \"Hyde Park\",\n",
    "         \"Woodlawn\", \"South Shore\", \"Chatham\", \"Avalon Park\", \"South Chicago\",\n",
    "         \"Burnside\", \"Calumet Heights\", \"Roseland\", \"Pullman\", \"South Deering\",\n",
    "         \"East Side\", \"West Pullman\", \"Riverdale\", \"Hegewisch\", \"Garfield Ridge\",\n",
    "         \"Archer Heights\", \"Brighton Park\", \"Mckinley Park\", \"Bridgeport\",\n",
    "         \"New City\", \"West Elsdon\", \"Gage Park\", \"Clearing\", \"West Lawn\",\n",
    "         \"Chicago Lawn\", \"West Englewood\", \"Englewood\", \"Greater Grand Crossing\",\n",
    "         \"Ashburn\", \"Auburn Gresham\", \"Beverly\", \"Washington Heights\",\n",
    "         \"Mount Greenwood\", \"Morgan Park\", \"Ohare\", \"Edgewater\") # R IS INDEX STARTING 1 NOT 0\n",
    "\n",
    "sorted_community_list <- sort(community_list)\n",
    "new_sorted_community_list <- append(sorted_community_list, \"All (City of Chicago)\", 0)\n",
    "new_sorted_community_list"
   ]
  },
  {
   "cell_type": "code",
   "execution_count": null,
   "id": "acaeb2d7",
   "metadata": {},
   "outputs": [],
   "source": [
    "library(rlang)\n",
    "library(ggplot2)"
   ]
  },
  {
   "cell_type": "code",
   "execution_count": null,
   "id": "199a0851",
   "metadata": {
    "scrolled": true
   },
   "outputs": [],
   "source": [
    "noFilter_byDay <- aggregate(data[,1], by=list(date(data$new_date)), FUN=length)\n",
    "colnames(noFilter_byDay) <- c(\"Date\", \"Rides\")\n",
    "noFilter_byDay"
   ]
  },
  {
   "cell_type": "code",
   "execution_count": null,
   "id": "d0983224",
   "metadata": {},
   "outputs": [],
   "source": [
    "ggplot(noFilter_byDay, aes(x=`Date`, y=`Rides`)) +\n",
    "  geom_bar(stat=\"identity\")"
   ]
  },
  {
   "cell_type": "code",
   "execution_count": null,
   "id": "e47fc78b",
   "metadata": {
    "scrolled": true
   },
   "outputs": [],
   "source": [
    "# Dataframe for the percentage of rides going to/from each community\n",
    "# NEEDS TO ACCOUNT THE TO/FROM FILTER\n",
    "# INTEGRATE WITH TAXI\n",
    "# KEEP IN MIND TO KEEP THE ORDER OF COMMUNITY ARRAY\n",
    "eachCommunity <- data.frame(data)\n",
    "comm_range <- 1:77\n",
    "company <- \"All Taxis\"\n",
    "trip <- \"To\"\n",
    "\n",
    "if(company != \"All Taxis\"){\n",
    "    eachCommunity <- subset(eachCommunity, eachCommunity$Company == company)\n",
    "}\n",
    "\n",
    "if(trip == \"To\"){\n",
    "    eachCommunity <- aggregate(eachCommunity[,1], by=list(eachCommunity$Dropoff.Community.Area), FUN=length)\n",
    "}else{\n",
    "    eachCommunity <- aggregate(eachCommunity[,1], by=list(eachCommunity$Pickup.Community.Area), FUN=length)\n",
    "}\n",
    "\n",
    "colnames(eachCommunity) <- c(\"Community\", \"Percentage\")\n",
    "#Fill in missing communities with 0's\n",
    "for(i in 1:77){\n",
    "    hasCommunity <- FALSE\n",
    "    for(j in 1:length(eachCommunity[,1])){\n",
    "        if(eachCommunity[j,1] == i){\n",
    "            hasCommunity <- TRUE\n",
    "            break\n",
    "        }\n",
    "    }\n",
    "        \n",
    "    if(!hasCommunity){\n",
    "        eachCommunity[nrow(eachCommunity) + 1,] = c(i, 0)\n",
    "    }\n",
    "}\n",
    "\n",
    "eachCommunity <- eachCommunity[order(eachCommunity$Community),]\n",
    "rownames(eachCommunity) <- 1:nrow(eachCommunity)\n",
    "\n",
    "#CONVERT COMMUNITY ID TO NAMES\n",
    "for(i in 1:77){\n",
    "    eachCommunity[i,1] <- community_list[i]\n",
    "}\n",
    "\n",
    "#Table them as percentages\n",
    "count_sum <- sum(eachCommunity$Percentage)\n",
    "eachCommunity$Percentage <- eachCommunity$Percentage/count_sum\n",
    "eachCommunity <- eachCommunity[order(eachCommunity$Community),, drop=FALSE]\n",
    "eachCommunity\n",
    "#NOTE BAR CHART NEEDS TO SHOW COMMUNITIES ALPHABETICALLY"
   ]
  },
  {
   "cell_type": "code",
   "execution_count": null,
   "id": "def8393b",
   "metadata": {
    "scrolled": true
   },
   "outputs": [],
   "source": [
    "# sort_comm <- sort(eachCommunity$Community)\n",
    "# sort_comm\n",
    "\n",
    "sorting_com <- eachCommunity[order(eachCommunity$Community),, drop=FALSE]\n",
    "sorting_com"
   ]
  },
  {
   "cell_type": "code",
   "execution_count": null,
   "id": "4503aeda",
   "metadata": {},
   "outputs": [],
   "source": [
    "ggplot(sorting_com, aes(x=`Community`, y=`Percentage`)) +\n",
    "  geom_bar(stat=\"identity\") + theme(axis.text.x = element_text(angle = 90))"
   ]
  },
  {
   "cell_type": "code",
   "execution_count": null,
   "id": "8d028a84",
   "metadata": {},
   "outputs": [],
   "source": [
    "noFilter_byHour <- aggregate(data[,1], by=list(data$Hour), FUN=length)\n",
    "colnames(noFilter_byHour) <- c(\"Hour\", \"Rides\")\n",
    "write.csv(noFilter_byHour, \"by_hour.csv\")"
   ]
  },
  {
   "cell_type": "code",
   "execution_count": null,
   "id": "c535d4b8",
   "metadata": {},
   "outputs": [],
   "source": [
    "noFilter_byMonth <- aggregate(data[,1], by=list(month(data$new_date)), FUN=length)\n",
    "colnames(noFilter_byMonth) <- c(\"Month\", \"Rides\")\n",
    "write.csv(noFilter_byMonth, \"/Users/rpgen/Documents/CS424/project3/bigYellowTaxi/by_month.csv\")"
   ]
  }
 ],
 "metadata": {
  "kernelspec": {
   "display_name": "R",
   "language": "R",
   "name": "ir"
  },
  "language_info": {
   "codemirror_mode": "r",
   "file_extension": ".r",
   "mimetype": "text/x-r-source",
   "name": "R",
   "pygments_lexer": "r",
   "version": "4.1.2"
  }
 },
 "nbformat": 4,
 "nbformat_minor": 5
}
