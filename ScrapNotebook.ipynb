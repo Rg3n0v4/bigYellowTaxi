{
 "cells": [
  {
   "cell_type": "code",
   "execution_count": 10,
   "id": "dfbad5e7",
   "metadata": {},
   "outputs": [
    {
     "data": {
      "text/html": [
       "'/Users/waynekao/CS424/bigYellowTaxi/Data'"
      ],
      "text/latex": [
       "'/Users/waynekao/CS424/bigYellowTaxi/Data'"
      ],
      "text/markdown": [
       "'/Users/waynekao/CS424/bigYellowTaxi/Data'"
      ],
      "text/plain": [
       "[1] \"/Users/waynekao/CS424/bigYellowTaxi/Data\""
      ]
     },
     "metadata": {},
     "output_type": "display_data"
    }
   ],
   "source": [
    "getwd()"
   ]
  },
  {
   "cell_type": "code",
   "execution_count": 9,
   "id": "4b6e77b2",
   "metadata": {},
   "outputs": [
    {
     "data": {
      "text/html": [],
      "text/latex": [],
      "text/markdown": [],
      "text/plain": [
       "character(0)"
      ]
     },
     "metadata": {},
     "output_type": "display_data"
    }
   ],
   "source": [
    "setwd(\"/Users/waynekao/CS424/bigYellowTaxi/Data/\")\n",
    "myfiles <- list.files(pattern=\"*.csv\", full.names=TRUE)\n",
    "myfiles"
   ]
  }
 ],
 "metadata": {
  "kernelspec": {
   "display_name": "R",
   "language": "R",
   "name": "ir"
  },
  "language_info": {
   "codemirror_mode": "r",
   "file_extension": ".r",
   "mimetype": "text/x-r-source",
   "name": "R",
   "pygments_lexer": "r",
   "version": "3.5.1"
  }
 },
 "nbformat": 4,
 "nbformat_minor": 5
}
